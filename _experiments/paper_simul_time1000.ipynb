{
 "cells": [
  {
   "cell_type": "code",
   "execution_count": 1,
   "metadata": {},
   "outputs": [
    {
     "name": "stdout",
     "output_type": "stream",
     "text": [
      "/Users/gabrieleagliardi/Documents/GitHub/Client-Vanguard-Optimization\n"
     ]
    }
   ],
   "source": [
    "from pathlib import Path\n",
    "\n",
    "ROOT = Path(globals()['__vsc_ipynb_file__']).parent.parent\n",
    "print(ROOT)\n",
    "\n",
    "import sys\n",
    "sys.path.append(str(ROOT))"
   ]
  },
  {
   "cell_type": "code",
   "execution_count": 2,
   "metadata": {},
   "outputs": [],
   "source": [
    "from qiskit import qpy"
   ]
  },
  {
   "cell_type": "code",
   "execution_count": 3,
   "metadata": {},
   "outputs": [],
   "source": [
    "# from qiskit_ibm_runtime import SamplerV2\n",
    "# from qiskit_aer.backends import AerSimulator\n",
    "# import time\n",
    "# import numpy as np\n",
    "\n",
    "# shots = 1\n",
    "# num_vars = 109\n",
    "# aer_options={'method' : 'matrix_product_state', 'n_qubits': num_vars}\n",
    "# backend = AerSimulator(**aer_options)\n",
    "# sampler = SamplerV2(mode=backend)\n",
    "# sampler.options.default_shots = shots"
   ]
  },
  {
   "cell_type": "code",
   "execution_count": 4,
   "metadata": {},
   "outputs": [],
   "source": [
    "from qiskit_aer.primitives import SamplerV2\n",
    "import time\n",
    "import numpy as np\n",
    "\n",
    "shots = 1000\n",
    "num_vars = 109\n",
    "aer_options={'method' : 'matrix_product_state', 'n_qubits': num_vars}\n",
    "sampler = SamplerV2(options={'backend_options':aer_options})"
   ]
  },
  {
   "cell_type": "code",
   "execution_count": 5,
   "metadata": {},
   "outputs": [
    {
     "name": "stdout",
     "output_type": "stream",
     "text": [
      "5.251802206039429\n"
     ]
    }
   ],
   "source": [
    "with open(f'{ROOT}/data/transpilation/bilinear/{num_vars}_pm_ibm_marrakesh_twolocal_2_0.qpy', 'br') as f:\n",
    "    isa_ansatz = qpy.load(f)[0]\n",
    "    \n",
    "st = time.time()\n",
    "job = sampler.run([(isa_ansatz, np.random.rand(isa_ansatz.num_parameters))], shots=shots)\n",
    "result = job.result()\n",
    "et = time.time()\n",
    "\n",
    "print(et-st)"
   ]
  },
  {
   "cell_type": "code",
   "execution_count": 6,
   "metadata": {},
   "outputs": [],
   "source": [
    "with open(f'{ROOT}/data/transpilation/bilinear/{num_vars}_pm_ibm_marrakesh_twolocal_2_0.qpy', 'br') as f:\n",
    "    isa_ansatz = qpy.load(f)[0]"
   ]
  },
  {
   "cell_type": "code",
   "execution_count": 7,
   "metadata": {},
   "outputs": [
    {
     "name": "stdout",
     "output_type": "stream",
     "text": [
      "176.31779980659485\n"
     ]
    }
   ],
   "source": [
    "with open(f'{ROOT}/data/transpilation/color/{num_vars}_pm_ibm_marrakesh_twolocal_2_True_0.qpy', 'br') as f:\n",
    "    isa_ansatz = qpy.load(f)[0]\n",
    "\n",
    "st = time.time()\n",
    "job = sampler.run([(isa_ansatz, np.random.rand(isa_ansatz.num_parameters))], shots=shots)\n",
    "result = job.result()\n",
    "et = time.time()\n",
    "\n",
    "print(et-st)"
   ]
  },
  {
   "cell_type": "code",
   "execution_count": 8,
   "metadata": {},
   "outputs": [],
   "source": [
    "# from src.step_1 import build_ansatz\n",
    "# from qiskit.transpiler import generate_preset_pass_manager\n",
    "# from qiskit_aer import AerSimulator\n",
    "# from qiskit_ibm_runtime import QiskitRuntimeService\n",
    "\n",
    "\n",
    "# service = QiskitRuntimeService()\n",
    "# backend = service.backend('ibm_marrakesh', '')\n",
    "\n",
    "# ansatz, _ = build_ansatz('twolocal', {'reps': 2, 'entanglement': 'color'}, num_vars, backend)\n",
    "# pm = generate_preset_pass_manager(basis_gates=AerSimulator()._basis_gates)\n",
    "# isa_ansatz = pm.run(ansatz)\n"
   ]
  },
  {
   "cell_type": "code",
   "execution_count": 9,
   "metadata": {},
   "outputs": [],
   "source": [
    "# st = time.time()\n",
    "# job = sampler.run([(ansatz, np.random.rand(ansatz.num_parameters))], shots=shots)\n",
    "# # result = job.result()\n",
    "# et = time.time()\n",
    "\n",
    "# print(et-st)"
   ]
  },
  {
   "cell_type": "code",
   "execution_count": 10,
   "metadata": {},
   "outputs": [],
   "source": [
    "# from qiskit_ibm_runtime import SamplerV2\n",
    "# from qiskit_aer.backends import AerSimulator\n",
    "# import time\n",
    "# import numpy as np\n",
    "\n",
    "# shots = 1\n",
    "# num_vars =109\n",
    "# aer_options={'method' : 'matrix_product_state', 'n_qubits': num_vars}\n",
    "# backend = AerSimulator(**aer_options)\n",
    "# sampler = SamplerV2(mode=backend)\n",
    "\n",
    "# with open(f'{ROOT}/data/transpilation/color/{num_vars}_pm_ibm_marrakesh_twolocal_2_True_0.qpy', 'br') as f:\n",
    "#     isa_ansatz = qpy.load(f)[0]\n",
    "\n",
    "# isa_ansatz.measure_active()\n",
    "# st = time.time()\n",
    "# job = sampler.run([(isa_ansatz, np.random.rand(isa_ansatz.num_parameters))], shots=shots)\n",
    "# # result = job.result()\n",
    "# et = time.time()\n",
    "\n",
    "# print(et-st)"
   ]
  },
  {
   "cell_type": "code",
   "execution_count": 11,
   "metadata": {},
   "outputs": [
    {
     "name": "stdout",
     "output_type": "stream",
     "text": [
      "985.6807806491852\n"
     ]
    }
   ],
   "source": [
    "with open(f'{ROOT}/data/transpilation/bilinear/{num_vars}_pm_ibm_marrakesh_bfcd_2_0.qpy', 'br') as f:\n",
    "    isa_ansatz = qpy.load(f)[0]\n",
    "\n",
    "st = time.time()\n",
    "job = sampler.run([(isa_ansatz, np.random.rand(isa_ansatz.num_parameters))], shots=shots)\n",
    "result = job.result()\n",
    "et = time.time()\n",
    "\n",
    "print(et-st)"
   ]
  },
  {
   "cell_type": "code",
   "execution_count": null,
   "metadata": {},
   "outputs": [],
   "source": [
    "with open(f'{ROOT}/data/transpilation/color/{num_vars}_pm_ibm_marrakesh_bfcd_2_True_0.qpy', 'br') as f:\n",
    "    isa_ansatz = qpy.load(f)[0]\n",
    "\n",
    "st = time.time()\n",
    "job = sampler.run([(isa_ansatz, np.random.rand(isa_ansatz.num_parameters))], shots=shots)\n",
    "result = job.result()\n",
    "et = time.time()\n",
    "\n",
    "print(et-st)\n"
   ]
  },
  {
   "cell_type": "code",
   "execution_count": null,
   "metadata": {},
   "outputs": [],
   "source": [
    "# aborted after 3h runtime"
   ]
  }
 ],
 "metadata": {
  "kernelspec": {
   "display_name": "qk1.3",
   "language": "python",
   "name": "python3"
  },
  "language_info": {
   "codemirror_mode": {
    "name": "ipython",
    "version": 3
   },
   "file_extension": ".py",
   "mimetype": "text/x-python",
   "name": "python",
   "nbconvert_exporter": "python",
   "pygments_lexer": "ipython3",
   "version": "3.10.16"
  }
 },
 "nbformat": 4,
 "nbformat_minor": 2
}
