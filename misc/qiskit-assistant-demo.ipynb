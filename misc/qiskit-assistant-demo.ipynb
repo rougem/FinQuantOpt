{
 "cells": [
  {
   "cell_type": "code",
   "execution_count": null,
   "metadata": {},
   "outputs": [],
   "source": [
    "# Generate a circuit with N qubits and one ry rotation per qubit\n",
    "from qiskit.circuit import QuantumCircuit, ParameterVector\n",
    "\n",
    "def generate_circuit(num_qubits):\n",
    "    params = ParameterVector('θ', num_qubits)\n",
    "    circuit = QuantumCircuit(num_qubits)\n",
    "    \n",
    "    for i in range(num_qubits):\n",
    "        circuit.ry(params[i], i)\n",
    "        \n",
    "    return circuit\n"
   ]
  },
  {
   "cell_type": "code",
   "execution_count": null,
   "metadata": {},
   "outputs": [],
   "source": [
    "# Generate a circuit with N qubits and one ry rotation per qubit, plus an entanglement of each qubit with the next one\n",
    "from qiskit.circuit import QuantumCircuit\n",
    "\n",
    "def generate_circuit(N):\n",
    "    qc = QuantumCircuit(N)\n",
    "\n",
    "    for i in range(N):\n",
    "        qc.ry(0.5, i)  # Add aRy rotation to each qubit\n",
    "\n",
    "    for i in range(N-1):\n",
    "        qc.cx(i, i+1)  # Entangle each qubit with the next one\n",
    "\n",
    "    return qc\n"
   ]
  },
  {
   "cell_type": "code",
   "execution_count": null,
   "metadata": {},
   "outputs": [],
   "source": [
    "# List all of my qiskit jobs\n",
    "from qiskit_ibm_runtime import QiskitRuntimeService\n",
    "service = QiskitRuntimeService()\n",
    "jobs = service.jobs()\n",
    "for job in jobs:\n",
    "    print(job)\n"
   ]
  }
 ],
 "metadata": {
  "kernelspec": {
   "display_name": "qk1.3",
   "language": "python",
   "name": "python3"
  },
  "language_info": {
   "name": "python",
   "version": "3.10.16"
  }
 },
 "nbformat": 4,
 "nbformat_minor": 2
}
